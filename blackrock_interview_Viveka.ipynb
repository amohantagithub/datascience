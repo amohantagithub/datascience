{
 "cells": [
  {
   "cell_type": "markdown",
   "metadata": {},
   "source": [
    "### From given string  s1='I am Mr. X. And I like ice-cream.'\n",
    "### Arrange each word in the string in the descending order of number of times of its occurrence. If at any place there is  degeneracy choose the one with lower index."
   ]
  },
  {
   "cell_type": "code",
   "execution_count": 5,
   "metadata": {},
   "outputs": [
    {
     "name": "stdout",
     "output_type": "stream",
     "text": [
      "[('I', 2), ('Mr.', 1), ('am', 1), ('ice-cream', 1), ('X.', 1), ('And', 1), ('like', 1)]\n"
     ]
    }
   ],
   "source": [
    "s1='I am Mr. X. And I like ice-cream'\n",
    "x=sorted(set([(i, s1.split().count(i)) for i in s1.split()]), key=lambda x: x[1], reverse=True)\n",
     "y=[i[0] for i in x]"
    "print(x)"
   ]
  },
  {
   "cell_type": "code",
   "execution_count": 6,
   "metadata": {},
   "outputs": [
    {
     "name": "stdout",
     "output_type": "stream",
     "text": [
      "[('I', 2), ('Mr.', 1), ('am', 1), ('ice-cream', 1), ('X.', 1), ('And', 1), ('like', 1)]\n"
     ]
    }
   ],
   "source": [
    "# The above code is expanded.\n",
    "s1='I am Mr. X. And I like ice-cream'\n",
    "x=s1.split()\n",
    "y=set([(i,x.count(i)) for i in x])\n",
    "z=sorted(y, key=lambda x: x[1], reverse = True)\n",
    "print(z)"
   ]
  },
  {
   "cell_type": "markdown",
   "metadata": {},
   "source": [
    "### Viveka's code is in the below link\n",
    "https://github.com/vivekasps/datascience/blob/master/blackrock_interview.py"
   ]
  },
  {
   "cell_type": "code",
   "execution_count": null,
   "metadata": {},
   "outputs": [],
   "source": []
  }
 ],
 "metadata": {
  "kernelspec": {
   "display_name": "Python 3",
   "language": "python",
   "name": "python3"
  },
  "language_info": {
   "codemirror_mode": {
    "name": "ipython",
    "version": 3
   },
   "file_extension": ".py",
   "mimetype": "text/x-python",
   "name": "python",
   "nbconvert_exporter": "python",
   "pygments_lexer": "ipython3",
   "version": "3.6.4"
  }
 },
 "nbformat": 4,
 "nbformat_minor": 2
}
